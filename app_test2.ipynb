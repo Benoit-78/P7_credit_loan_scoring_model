{
 "cells": [
  {
   "cell_type": "code",
   "execution_count": 1,
   "metadata": {
    "collapsed": true
   },
   "outputs": [],
   "source": [
    "import pickle\n",
    "\n",
    "from back_end.prediction import *"
   ]
  },
  {
   "cell_type": "code",
   "execution_count": 2,
   "outputs": [],
   "source": [
    "LOCAL_PATH = 'C:\\\\Users\\\\benoi\\\\OneDrive\\\\Documents\\\\20.3 Informatique\\\\Data Science\\\\0_process\\\\P7 Modèle de scoring\\\\40 dossier_git'\n",
    "GITHUB_PATH = 'https://github.com/Benoit-78/credit_loan_scoring_model'\n",
    "PATH = LOCAL_PATH"
   ],
   "metadata": {
    "collapsed": false,
    "pycharm": {
     "name": "#%%\n"
    }
   }
  },
  {
   "cell_type": "code",
   "execution_count": 3,
   "outputs": [
    {
     "name": "stderr",
     "output_type": "stream",
     "text": [
      "C:\\Users\\benoi\\AppData\\Local\\Programs\\Python\\Python39\\lib\\site-packages\\sklearn\\base.py:324: UserWarning: Trying to unpickle estimator DummyClassifier from version 1.0 when using version 1.0.1. This might lead to breaking code or invalid results. Use at your own risk. For more info please refer to:\n",
      "https://scikit-learn.org/stable/modules/model_persistence.html#security-maintainability-limitations\n",
      "  warnings.warn(\n",
      "C:\\Users\\benoi\\AppData\\Local\\Programs\\Python\\Python39\\lib\\site-packages\\sklearn\\base.py:324: UserWarning: Trying to unpickle estimator DecisionTreeRegressor from version 1.0 when using version 1.0.1. This might lead to breaking code or invalid results. Use at your own risk. For more info please refer to:\n",
      "https://scikit-learn.org/stable/modules/model_persistence.html#security-maintainability-limitations\n",
      "  warnings.warn(\n",
      "C:\\Users\\benoi\\AppData\\Local\\Programs\\Python\\Python39\\lib\\site-packages\\sklearn\\base.py:324: UserWarning: Trying to unpickle estimator GradientBoostingClassifier from version 1.0 when using version 1.0.1. This might lead to breaking code or invalid results. Use at your own risk. For more info please refer to:\n",
      "https://scikit-learn.org/stable/modules/model_persistence.html#security-maintainability-limitations\n",
      "  warnings.warn(\n"
     ]
    }
   ],
   "source": [
    "train_df = load_data(PATH, 'app_samp_train.csv')\n",
    "test_df = load_data(PATH, 'app_samp_test.csv')\n",
    "orig_train_df = load_data(PATH, 'orig_train_samp.csv')\n",
    "with open(LOCAL_PATH + '\\\\back_end\\\\fitted_gbstg.pkl', 'rb') as f:\n",
    "    model = pickle.load(f, encoding='latin1')"
   ],
   "metadata": {
    "collapsed": false,
    "pycharm": {
     "name": "#%%\n"
    }
   }
  },
  {
   "cell_type": "code",
   "execution_count": 4,
   "outputs": [],
   "source": [
    "main_features_row = most_important_features_list(test_df, model, n_feat=6)"
   ],
   "metadata": {
    "collapsed": false,
    "pycharm": {
     "name": "#%%\n"
    }
   }
  },
  {
   "cell_type": "code",
   "execution_count": 5,
   "outputs": [
    {
     "data": {
      "text/plain": "['CNT CHILDREN',\n 'EXT SOURCE 3',\n 'EXT SOURCE 2',\n 'log NAME CONTRACT TYPE prev Consumer loans',\n 'DAYS LAST DUE',\n 'AMT DIFF prev']"
     },
     "execution_count": 5,
     "metadata": {},
     "output_type": "execute_result"
    }
   ],
   "source": [
    "main_features_row"
   ],
   "metadata": {
    "collapsed": false,
    "pycharm": {
     "name": "#%%\n"
    }
   }
  },
  {
   "cell_type": "code",
   "execution_count": 10,
   "outputs": [],
   "source": [
    "applicant_id = st.sidebar.selectbox(\n",
    "    'Applicant identification number',\n",
    "    test_df.index)\n",
    "orig_row = test_df.loc[applicant_id]\n",
    "orig_row['ID'] = applicant_id\n",
    "# Clean from parasite characters\n",
    "orig_row.rename(lambda x: x.replace('_', ' '), axis='index', inplace=True)\n",
    "row = orig_row"
   ],
   "metadata": {
    "collapsed": false,
    "pycharm": {
     "name": "#%%\n"
    }
   }
  },
  {
   "cell_type": "code",
   "execution_count": 11,
   "outputs": [
    {
     "name": "stdout",
     "output_type": "stream",
     "text": [
      "NAME CONTRACT TYPE ['Cash loans', 'Revolving loans', 'Not available'] 0\n"
     ]
    }
   ],
   "source": [
    "for i, feature_name in enumerate(main_features_row):\n",
    "    # For categorical variable\n",
    "    if orig_encoded_feat(feature_name):\n",
    "        # Label\n",
    "        orig_col = orig_encoded_feat(feature_name)\n",
    "        label = readable_string(orig_col)\n",
    "        # Options\n",
    "        options = list(orig_train_df[orig_col].dropna().unique())\n",
    "        options.append('Not available')\n",
    "        # Index\n",
    "        app_option = app_spec_option(test_df, feature_name, row)\n",
    "        for l, option in enumerate(options):\n",
    "            if option in app_option:\n",
    "                index = l\n",
    "                break\n",
    "        print(label, options, index)"
   ],
   "metadata": {
    "collapsed": false,
    "pycharm": {
     "name": "#%%\n"
    }
   }
  },
  {
   "cell_type": "code",
   "execution_count": 13,
   "outputs": [],
   "source": [
    "for i, feature_name in enumerate(main_features_row):\n",
    "    # For boolean variable\n",
    "    if test_df[feature_name].nunique() == 2:\n",
    "        if int(row[feature_name]) == 1:\n",
    "            app_value = 1\n",
    "        else:\n",
    "            app_value = 0\n",
    "        print(feature_name, app_value)"
   ],
   "metadata": {
    "collapsed": false,
    "pycharm": {
     "name": "#%%\n"
    }
   }
  },
  {
   "cell_type": "code",
   "execution_count": 19,
   "outputs": [
    {
     "name": "stdout",
     "output_type": "stream",
     "text": [
      "CNT CHILDREN 0.0 0.4 0.0\n",
      "EXT SOURCE 3 0.0 0.9743695 0.18026271\n",
      "EXT SOURCE 2 0.00065201346 1.0 0.9235727\n",
      "DAYS LAST DUE 0.0044004097999999 0.8021766 0.012496191\n",
      "AMT DIFF prev 0.1598676 0.6518774 0.35499248\n"
     ]
    }
   ],
   "source": [
    "for i, feature_name in enumerate(main_features_row):\n",
    "    # For quantitative variable\n",
    "    if not orig_encoded_feat(feature_name) and test_df[feature_name].nunique() != 2:\n",
    "        min_value = min(test_df[feature_name])\n",
    "        max_value = max(test_df[feature_name])\n",
    "        app_value = test_df[feature_name].loc[applicant_id]\n",
    "        percent_value = (app_value - min_value) / (max_value - min_value) * 100\n",
    "        percent_value = int(percent_value)"
   ],
   "metadata": {
    "collapsed": false,
    "pycharm": {
     "name": "#%%\n"
    }
   }
  },
  {
   "cell_type": "code",
   "execution_count": null,
   "outputs": [],
   "source": [
    "row_from_widgets_dict(, orig_row, test_df)"
   ],
   "metadata": {
    "collapsed": false,
    "pycharm": {
     "name": "#%%\n"
    }
   }
  }
 ],
 "metadata": {
  "kernelspec": {
   "display_name": "Python 3",
   "language": "python",
   "name": "python3"
  },
  "language_info": {
   "codemirror_mode": {
    "name": "ipython",
    "version": 2
   },
   "file_extension": ".py",
   "mimetype": "text/x-python",
   "name": "python",
   "nbconvert_exporter": "python",
   "pygments_lexer": "ipython2",
   "version": "2.7.6"
  }
 },
 "nbformat": 4,
 "nbformat_minor": 0
}